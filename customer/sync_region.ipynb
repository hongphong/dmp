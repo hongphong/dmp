{
 "cells": [
  {
   "cell_type": "code",
   "execution_count": 2,
   "id": "6515b805-c698-41c9-ac65-acffa276c816",
   "metadata": {},
   "outputs": [
    {
     "name": "stdout",
     "output_type": "stream",
     "text": [
      "[\u001b[34m2021-08-15 09:06:15,072\u001b[0m] {\u001b[34mbase.py:\u001b[0m78} INFO\u001b[0m - Using connection to: id: hssk_mongo2_view. Host: 10.207.150.47:27017,10.207.150.48:27017,10.207.150.49:27017, Port: None, Schema: admin, Login: view, Password: Viettel%21%40%232021, extra: {'authSource': 'admin'}\u001b[0m\n",
      "[\u001b[34m2021-08-15 09:06:15,106\u001b[0m] {\u001b[34mbase.py:\u001b[0m78} INFO\u001b[0m - Using connection to: id: mongo_default. Host: mongo, Port: 27017, Schema: None, Login: None, Password: None, extra: {}\u001b[0m\n",
      "[\u001b[34m2021-08-15 09:06:15,109\u001b[0m] {\u001b[34mbase.py:\u001b[0m78} INFO\u001b[0m - Using connection to: id: hssk_mongo2_view. Host: 10.207.150.47:27017,10.207.150.48:27017,10.207.150.49:27017, Port: None, Schema: admin, Login: view, Password: Viettel%21%40%232021, extra: {'authSource': 'admin'}\u001b[0m\n"
     ]
    }
   ],
   "source": [
    "from dmp.df.pandas import PandasPipeline\n",
    "from IPython.display import clear_output\n",
    "a = PandasPipeline.connect_db(\"hssk_mongo2_view\")\n",
    "from dmp.helper.connection import WfConnection"
   ]
  },
  {
   "cell_type": "code",
   "execution_count": 33,
   "id": "ac8b778f-918e-471e-8362-9879b63806b6",
   "metadata": {},
   "outputs": [
    {
     "name": "stdout",
     "output_type": "stream",
     "text": [
      "[\u001b[34m2021-08-14 16:00:21,800\u001b[0m] {\u001b[34mbase.py:\u001b[0m78} INFO\u001b[0m - Using connection to: id: hssk_mongo2_view. Host: 10.207.150.47:27017,10.207.150.48:27017,10.207.150.49:27017, Port: None, Schema: admin, Login: view, Password: Viettel%21%40%232021, extra: {'authSource': 'admin'}\u001b[0m\n",
      "[\u001b[34m2021-08-14 16:00:21,803\u001b[0m] {\u001b[34mbase.py:\u001b[0m78} INFO\u001b[0m - Using connection to: id: mongo_default. Host: mongo, Port: 27017, Schema: None, Login: None, Password: None, extra: {}\u001b[0m\n",
      "[\u001b[34m2021-08-14 16:00:21,806\u001b[0m] {\u001b[34mbase.py:\u001b[0m78} INFO\u001b[0m - Using connection to: id: hssk_mongo2_view. Host: 10.207.150.47:27017,10.207.150.48:27017,10.207.150.49:27017, Port: None, Schema: admin, Login: view, Password: Viettel%21%40%232021, extra: {'authSource': 'admin'}\u001b[0m\n"
     ]
    }
   ],
   "source": [
    "# a.read_mongodb(\"Region\",\"colombo10263\", query={}, \n",
    "#                         return_cursor=False).df.head()\n",
    "cursor = a.read_mongodb(\"Region\",\"colombo10263\", query={}, \n",
    "                        return_cursor=True)"
   ]
  },
  {
   "cell_type": "code",
   "execution_count": 24,
   "id": "4417ce96-4cf1-45ca-917f-5d2f66a66e0b",
   "metadata": {},
   "outputs": [
    {
     "data": {
      "text/plain": [
       "<pymongo.cursor.Cursor at 0x7f092b1dee80>"
      ]
     },
     "execution_count": 24,
     "metadata": {},
     "output_type": "execute_result"
    }
   ],
   "source": [
    "# new_df = cursor.df.astype(str).rename_cols({\"_id\":\"id\"}, inplace=False)\n",
    "cursor"
   ]
  },
  {
   "cell_type": "code",
   "execution_count": 34,
   "id": "11e82dfe-fe08-4b1f-a4df-8ff04b905ebb",
   "metadata": {},
   "outputs": [
    {
     "name": "stdout",
     "output_type": "stream",
     "text": [
      "[\u001b[34m2021-08-14 16:00:31,126\u001b[0m] {\u001b[34mbase.py:\u001b[0m78} INFO\u001b[0m - Using connection to: id: dw_oracle. Host: 10.255.41.164, Port: None, Schema: , Login: KGM_Report, Password: Viettel!@#2021, extra: {'service_name': 'tcdb'}\u001b[0m\n",
      "[\u001b[34m2021-08-14 16:00:31,288\u001b[0m] {\u001b[34moracle.py:\u001b[0m268} INFO\u001b[0m - [dim_region_temp] inserted 982 rows\u001b[0m\n",
      "done: 12982\n"
     ]
    }
   ],
   "source": [
    "oracle_conn = WfConnection(\"dw_oracle\").get_wf_db()\n",
    "# oracle_conn.get_sqlalchemy_engine().execute(\"truncate table dim_region_temp\")\n",
    "# oracle_conn.get_sqlalchemy_engine().execute(\"\"\"\n",
    "#     Create table dim_region_temp (\n",
    "#         id CLOB,\n",
    "#         createdtime CLOB,\n",
    "#         createdyear CLOB,\n",
    "#         createdmonth CLOB,\n",
    "#         createdday CLOB,\n",
    "#         lastupdatetime CLOB,\n",
    "#         lastupdatedate CLOB,\n",
    "#         sortorder CLOB,\n",
    "#         creatorid CLOB,\n",
    "#         site CLOB,\n",
    "#         createdemployeeid CLOB,\n",
    "#         createdorganizationid CLOB,\n",
    "#         type CLOB,\n",
    "#         code CLOB,\n",
    "#         title CLOB,\n",
    "#         parentid CLOB,\n",
    "#         content CLOB,\n",
    "#         latitude CLOB,\n",
    "#         longitude CLOB,\n",
    "#         countryid CLOB,\n",
    "#         normalizetitle CLOB,\n",
    "#         normalizeparenttitle CLOB,\n",
    "#         tempidx CLOB,\n",
    "#         type1 CLOB,\n",
    "#         type2 CLOB,\n",
    "#         studycode CLOB,\n",
    "#         studyid CLOB,\n",
    "#         oldcode CLOB,\n",
    "#         englishname CLOB,\n",
    "#         leveltitle CLOB,\n",
    "#         viettelsaleid CLOB,\n",
    "#         zipcode CLOB,\n",
    "#         bccscode CLOB,\n",
    "#         cdcid CLOB,\n",
    "#         cdccode CLOB,\n",
    "#         englishtitle CLOB,\n",
    "#         status CLOB,\n",
    "#         nationid CLOB\n",
    "#     )\n",
    "# \"\"\")\n",
    "# PandasPipeline.connect_db(\"hssk_mongo2_view\").read_df(new_df).df.to_sql(\"dim_region_temp\",con=oracle_conn, if_exists=\"replace\")\n",
    "# new_df.columns\n",
    "# from dmp.helper.utils import generate_batches\n",
    "# from IPython.display import clear_output\n",
    "# col = ['id', 'createdtime', 'createdyear', 'createdmonth', 'createdday',\n",
    "#        'lastupdatetime', 'lastupdatedate', 'sortorder', 'creatorid', 'site',\n",
    "#        'createdemployeeid', 'createdorganizationid', 'type', 'code', 'title',\n",
    "#        'parentid', 'content', 'latitude', 'longitude', 'countryid',\n",
    "#        'normalizetitle', 'normalizeparenttitle', 'tempidx', 'type1', 'type2',\n",
    "#        'studycode', 'studyid', 'oldcode', 'englishname', 'leveltitle',\n",
    "#        'viettelsaleid', 'zipcode', 'bccscode', 'cdcid', 'cdccode',\n",
    "#        'englishtitle', 'status', 'nationid']\n",
    "# target = ['_id', 'createdTime', 'createdYear', 'createdMonth', 'createdDay',\n",
    "#        'lastUpdateTime', 'lastUpdateDate', 'sortOrder', 'creatorId', 'site',\n",
    "#        'createdEmployeeId', 'createdOrganizationId', 'type', 'code', 'title',\n",
    "#        'parentId', 'content', 'latitude', 'longitude', 'countryId',\n",
    "#        'normalizeTitle', 'normalizeParentTitle', 'tempIdx', 'type1', 'type2',\n",
    "#        'studyCode', 'studyId', 'oldCode', 'englishName', 'levelTitle',\n",
    "#        'viettelSaleId', 'zipCode', 'bccsCode', 'cdcId', 'cdcCode',\n",
    "#        'englishTitle', 'status', 'nationId']\n",
    "# def clean_na(item):\n",
    "#     if item in ['None','nan', None]:\n",
    "#         return \"\"\n",
    "#     return item\n",
    "# l=0\n",
    "\n",
    "    \n",
    "# for batch in generate_batches(cursor, batch_size_limit=1000, callback_item=lambda x: {k: x.get(k, None) for k in target}):\n",
    "#     df = PandasPipeline.read_dict(batch).normalize_cols(inplace=False).astype(str).rename_cols({\"_id\":\"id\"}, inplace=False)\n",
    "#     data =[tuple([clean_na(k.get(c,\"\"))  for c in col]) for k in df.to_dict(orient=\"records\")]\n",
    "     \n",
    "#     oracle_conn.bulk_insert_rows(table=\"dim_region_temp\",rows=data, target_fields=col, commit_every=20000)\n",
    "#     l+=len(batch)\n",
    "#     print(\"done: %s\" % l)\n",
    "#     clear_output(wait=True)\n",
    "    \n",
    "    "
   ]
  },
  {
   "cell_type": "code",
   "execution_count": 5,
   "id": "b62c9037-08b7-4d6c-9af4-e008043cfd05",
   "metadata": {},
   "outputs": [
    {
     "name": "stdout",
     "output_type": "stream",
     "text": [
      "[\u001b[34m2021-08-15 09:07:36,250\u001b[0m] {\u001b[34mbase.py:\u001b[0m78} INFO\u001b[0m - Using connection to: id: dw_oracle. Host: 10.255.41.164, Port: None, Schema: , Login: KGM_Report, Password: Viettel!@#2021, extra: {'service_name': 'tcdb'}\u001b[0m\n",
      "[\u001b[34m2021-08-15 09:07:36,253\u001b[0m] {\u001b[34mbase.py:\u001b[0m78} INFO\u001b[0m - Using connection to: id: dw_oracle. Host: 10.255.41.164, Port: None, Schema: , Login: KGM_Report, Password: Viettel!@#2021, extra: {'service_name': 'tcdb'}\u001b[0m\n"
     ]
    }
   ],
   "source": [
    "# oracle_conn = WfConnection(\"dw_oracle\").get_wf_db()\n",
    "# engine = oracle_conn.get_sqlalchemy_engine()\n",
    "# cursor = engine.execute(\"\"\"\n",
    "# CREATE TABLE dim_region_main AS (\n",
    "#     select \n",
    "#     DBMS_LOB.substr(id,0,4000) as id,\n",
    "# CAST(TRIM(CAST(createdtime as VARCHAR(400))) as NUMBER) as createdtime,\n",
    "# CAST(TRIM(CAST(createdyear as VARCHAR(400))) as NUMBER) as createdyear,\n",
    "# CAST(TRIM(CAST(createdmonth as VARCHAR(400))) as NUMBER) as createdmonth,\n",
    "# CAST(TRIM(CAST(createdday as VARCHAR(400))) as NUMBER) as createdday,\n",
    "# DBMS_LOB.substr(lastupdatetime,0,4000) as lastupdatetime,\n",
    "# DBMS_LOB.substr(lastupdatedate,0,4000) as lastupdatedate,\n",
    "# DBMS_LOB.substr(sortorder,0,4000) as sortorder,\n",
    "# DBMS_LOB.substr(creatorid,0,4000) as creatorid,\n",
    "# DBMS_LOB.substr(site,0,4000) as site,\n",
    "# DBMS_LOB.substr(createdemployeeid,0,4000) as createdemployeeid,\n",
    "# DBMS_LOB.substr(createdorganizationid,0,4000) as createdorganizationid,\n",
    "# DBMS_LOB.substr(type,0,4000) as type,\n",
    "# DBMS_LOB.substr(code,0,4000) as code,\n",
    "# DBMS_LOB.substr(title,0,4000) as title,\n",
    "# DBMS_LOB.substr(parentid,0,4000) as parentid,\n",
    "# DBMS_LOB.substr(content,0,4000) as content,\n",
    "# DBMS_LOB.substr(latitude,0,4000) as latitude,\n",
    "# DBMS_LOB.substr(longitude,0,4000) as longitude,\n",
    "# DBMS_LOB.substr(countryid,0,4000) as countryid,\n",
    "# DBMS_LOB.substr(normalizetitle,0,4000) as normalizetitle,\n",
    "# DBMS_LOB.substr(normalizeparenttitle,0,4000) as normalizeparenttitle,\n",
    "# DBMS_LOB.substr(tempidx,0,4000) as tempidx,\n",
    "# DBMS_LOB.substr(type1,0,4000) as type1,\n",
    "# DBMS_LOB.substr(type2,0,4000) as type2,\n",
    "# DBMS_LOB.substr(studycode,0,4000) as studycode,\n",
    "# DBMS_LOB.substr(studyid,0,4000) as studyid,\n",
    "# DBMS_LOB.substr(oldcode,0,4000) as oldcode,\n",
    "# DBMS_LOB.substr(englishname,0,4000) as englishname,\n",
    "# DBMS_LOB.substr(leveltitle,0,4000) as leveltitle,\n",
    "# DBMS_LOB.substr(viettelsaleid,0,4000) as viettelsaleid,\n",
    "# DBMS_LOB.substr(zipcode,0,4000) as zipcode,\n",
    "# DBMS_LOB.substr(bccscode,0,4000) as bccscode,\n",
    "# DBMS_LOB.substr(cdcid,0,4000) as cdcid,\n",
    "# DBMS_LOB.substr(cdccode,0,4000) as cdccode,\n",
    "# DBMS_LOB.substr(englishtitle,0,4000) as englishtitle,\n",
    "# DBMS_LOB.substr(status,0,4000) as status,\n",
    "# DBMS_LOB.substr(nationid,0,4000) as nationid\n",
    "\n",
    "#     from dim_region_temp)\n",
    "# \"\"\")"
   ]
  },
  {
   "cell_type": "code",
   "execution_count": null,
   "id": "27e52374-9d36-4d38-bd06-e8dcef633b01",
   "metadata": {},
   "outputs": [],
   "source": []
  }
 ],
 "metadata": {
  "kernelspec": {
   "display_name": "Python 3",
   "language": "python",
   "name": "python3"
  },
  "language_info": {
   "codemirror_mode": {
    "name": "ipython",
    "version": 3
   },
   "file_extension": ".py",
   "mimetype": "text/x-python",
   "name": "python",
   "nbconvert_exporter": "python",
   "pygments_lexer": "ipython3",
   "version": "3.6.8"
  }
 },
 "nbformat": 4,
 "nbformat_minor": 5
}
